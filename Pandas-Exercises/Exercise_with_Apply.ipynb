{
 "cells": [
  {
   "cell_type": "code",
   "execution_count": 85,
   "id": "b9c4fe1c-f092-4547-b098-445acc0f5ec9",
   "metadata": {},
   "outputs": [],
   "source": [
    "import pandas as pd\n",
    "titanic = pd.read_csv('data/titanic.csv')\n",
    "\n",
    "titanic['age'] = titanic['age'].replace(['?'], [None]).astype('float')\n",
    "titanic['fare'] = titanic['fare'].replace(['?'], [None]).astype('float')"
   ]
  },
  {
   "cell_type": "code",
   "execution_count": 87,
   "id": "3915565f-56ae-49d8-8f54-c3355fb54006",
   "metadata": {},
   "outputs": [
    {
     "data": {
      "text/plain": [
       "0       10585.0000\n",
       "1         334.5955\n",
       "2         730.0000\n",
       "3       10950.0000\n",
       "4        9125.0000\n",
       "           ...    \n",
       "1304     5292.5000\n",
       "1305           NaN\n",
       "1306     9672.5000\n",
       "1307     9855.0000\n",
       "1308    10585.0000\n",
       "Name: age, Length: 1309, dtype: float64"
      ]
     },
     "execution_count": 87,
     "metadata": {},
     "output_type": "execute_result"
    }
   ],
   "source": [
    "def years_to_days(years):\n",
    "    return years * 365\n",
    "\n",
    "titanic['age'].apply(years_to_days)"
   ]
  },
  {
   "cell_type": "code",
   "execution_count": 89,
   "id": "3d6bb5a7-4984-4286-a839-45dcfeac6306",
   "metadata": {},
   "outputs": [],
   "source": [
    "def get_age_group(age):\n",
    "    if age < 2:\n",
    "        return 'infant'\n",
    "    elif age < 12:\n",
    "        return 'child'\n",
    "    elif age < 18:\n",
    "        return 'teen'\n",
    "    elif age < 50:\n",
    "        return 'adult'\n",
    "    else:\n",
    "        return 'senior'"
   ]
  },
  {
   "cell_type": "code",
   "execution_count": 91,
   "id": "6565db7a-1221-46e6-90e1-a6e24cdf1cac",
   "metadata": {},
   "outputs": [
    {
     "data": {
      "text/plain": [
       "0        adult\n",
       "1       infant\n",
       "2        child\n",
       "3        adult\n",
       "4        adult\n",
       "         ...  \n",
       "1304      teen\n",
       "1305    senior\n",
       "1306     adult\n",
       "1307     adult\n",
       "1308     adult\n",
       "Name: age, Length: 1309, dtype: object"
      ]
     },
     "execution_count": 91,
     "metadata": {},
     "output_type": "execute_result"
    }
   ],
   "source": [
    "titanic['age'].apply(get_age_group)"
   ]
  },
  {
   "cell_type": "code",
   "execution_count": 93,
   "id": "ee227ed2-c172-46df-b656-5932a703ba9e",
   "metadata": {},
   "outputs": [],
   "source": [
    "titanic['age_group'] = titanic['age'].apply(get_age_group)"
   ]
  },
  {
   "cell_type": "code",
   "execution_count": 95,
   "id": "4d0cd29b-2f0a-4519-958d-e566682e5630",
   "metadata": {},
   "outputs": [
    {
     "data": {
      "text/plain": [
       "age_group\n",
       "adult     782\n",
       "senior    373\n",
       "child      69\n",
       "teen       63\n",
       "infant     22\n",
       "Name: count, dtype: int64"
      ]
     },
     "execution_count": 95,
     "metadata": {},
     "output_type": "execute_result"
    }
   ],
   "source": [
    "titanic['age_group'].value_counts()"
   ]
  },
  {
   "cell_type": "code",
   "execution_count": 97,
   "id": "8450e176-c241-40ce-aa19-49cbbcca068d",
   "metadata": {},
   "outputs": [
    {
     "data": {
      "text/plain": [
       "age_group\n",
       "adult     0.386189\n",
       "child     0.492754\n",
       "infant    0.772727\n",
       "senior    0.313673\n",
       "teen      0.476190\n",
       "Name: survived, dtype: float64"
      ]
     },
     "execution_count": 97,
     "metadata": {},
     "output_type": "execute_result"
    }
   ],
   "source": [
    "titanic.groupby('age_group').survived.mean()"
   ]
  },
  {
   "cell_type": "code",
   "execution_count": 99,
   "id": "9d8a3ca5-7c14-4906-ad42-6c1ed10c871e",
   "metadata": {},
   "outputs": [
    {
     "data": {
      "text/plain": [
       "age_group  sex   \n",
       "adult      female    0.748201\n",
       "           male      0.186508\n",
       "child      female    0.515152\n",
       "           male      0.472222\n",
       "infant     female    0.888889\n",
       "           male      0.692308\n",
       "senior     female    0.698276\n",
       "           male      0.140078\n",
       "teen       female    0.833333\n",
       "           male      0.151515\n",
       "Name: survived, dtype: float64"
      ]
     },
     "execution_count": 99,
     "metadata": {},
     "output_type": "execute_result"
    }
   ],
   "source": [
    "titanic.groupby(['age_group','sex']).survived.mean()"
   ]
  },
  {
   "cell_type": "code",
   "execution_count": 101,
   "id": "ddf25976-a94a-44dc-9932-5e3ccc91a293",
   "metadata": {},
   "outputs": [
    {
     "data": {
      "text/plain": [
       "0                   $5072.1\n",
       "1       $3637.2000000000003\n",
       "2       $3637.2000000000003\n",
       "3       $3637.2000000000003\n",
       "4       $3637.2000000000003\n",
       "               ...         \n",
       "1304              $346.9008\n",
       "1305              $346.9008\n",
       "1306    $173.39999999999998\n",
       "1307    $173.39999999999998\n",
       "1308                 $189.0\n",
       "Name: fare, Length: 1309, dtype: object"
      ]
     },
     "execution_count": 101,
     "metadata": {},
     "output_type": "execute_result"
    }
   ],
   "source": [
    "#Apply with Lambda func\n",
    "# f{ } is what you called an f-string in python that allows you to embed expressions inside string literals using curly braces {}\n",
    "titanic['fare'].apply(lambda x: f'${x*24}')"
   ]
  },
  {
   "cell_type": "code",
   "execution_count": 103,
   "id": "80572bee-aa4d-4a09-80ea-852a9d27f8d8",
   "metadata": {},
   "outputs": [
    {
     "data": {
      "text/plain": [
       "0                   $5072.1\n",
       "1       $3637.2000000000003\n",
       "2       $3637.2000000000003\n",
       "3       $3637.2000000000003\n",
       "4       $3637.2000000000003\n",
       "               ...         \n",
       "1304              $346.9008\n",
       "1305              $346.9008\n",
       "1306    $173.39999999999998\n",
       "1307    $173.39999999999998\n",
       "1308                 $189.0\n",
       "Name: fare, Length: 1309, dtype: object"
      ]
     },
     "execution_count": 103,
     "metadata": {},
     "output_type": "execute_result"
    }
   ],
   "source": [
    "#practice function with 2 argument in apply\n",
    "def convert_currency(num, multi):\n",
    "    return f'${num*multi}';\n",
    "#args always has to be a tuple\n",
    "titanic['fare'].apply(convert_currency, args=(24,))"
   ]
  },
  {
   "cell_type": "code",
   "execution_count": 105,
   "id": "2f9273f0-a3e5-4290-bb1d-1f87f4112f55",
   "metadata": {},
   "outputs": [],
   "source": [
    "#APPLY with DATAFRAME\n",
    "\n",
    "df = titanic[['pclass','survived','age']]"
   ]
  },
  {
   "cell_type": "code",
   "execution_count": 107,
   "id": "b482e871-8140-4407-8856-8530a0203554",
   "metadata": {},
   "outputs": [
    {
     "data": {
      "text/html": [
       "<div>\n",
       "<style scoped>\n",
       "    .dataframe tbody tr th:only-of-type {\n",
       "        vertical-align: middle;\n",
       "    }\n",
       "\n",
       "    .dataframe tbody tr th {\n",
       "        vertical-align: top;\n",
       "    }\n",
       "\n",
       "    .dataframe thead th {\n",
       "        text-align: right;\n",
       "    }\n",
       "</style>\n",
       "<table border=\"1\" class=\"dataframe\">\n",
       "  <thead>\n",
       "    <tr style=\"text-align: right;\">\n",
       "      <th></th>\n",
       "      <th>pclass</th>\n",
       "      <th>survived</th>\n",
       "      <th>age</th>\n",
       "    </tr>\n",
       "  </thead>\n",
       "  <tbody>\n",
       "    <tr>\n",
       "      <th>0</th>\n",
       "      <td>1</td>\n",
       "      <td>1</td>\n",
       "      <td>29.0000</td>\n",
       "    </tr>\n",
       "    <tr>\n",
       "      <th>1</th>\n",
       "      <td>1</td>\n",
       "      <td>1</td>\n",
       "      <td>0.9167</td>\n",
       "    </tr>\n",
       "    <tr>\n",
       "      <th>2</th>\n",
       "      <td>1</td>\n",
       "      <td>0</td>\n",
       "      <td>2.0000</td>\n",
       "    </tr>\n",
       "    <tr>\n",
       "      <th>3</th>\n",
       "      <td>1</td>\n",
       "      <td>0</td>\n",
       "      <td>30.0000</td>\n",
       "    </tr>\n",
       "    <tr>\n",
       "      <th>4</th>\n",
       "      <td>1</td>\n",
       "      <td>0</td>\n",
       "      <td>25.0000</td>\n",
       "    </tr>\n",
       "    <tr>\n",
       "      <th>...</th>\n",
       "      <td>...</td>\n",
       "      <td>...</td>\n",
       "      <td>...</td>\n",
       "    </tr>\n",
       "    <tr>\n",
       "      <th>1304</th>\n",
       "      <td>3</td>\n",
       "      <td>0</td>\n",
       "      <td>14.5000</td>\n",
       "    </tr>\n",
       "    <tr>\n",
       "      <th>1305</th>\n",
       "      <td>3</td>\n",
       "      <td>0</td>\n",
       "      <td>NaN</td>\n",
       "    </tr>\n",
       "    <tr>\n",
       "      <th>1306</th>\n",
       "      <td>3</td>\n",
       "      <td>0</td>\n",
       "      <td>26.5000</td>\n",
       "    </tr>\n",
       "    <tr>\n",
       "      <th>1307</th>\n",
       "      <td>3</td>\n",
       "      <td>0</td>\n",
       "      <td>27.0000</td>\n",
       "    </tr>\n",
       "    <tr>\n",
       "      <th>1308</th>\n",
       "      <td>3</td>\n",
       "      <td>0</td>\n",
       "      <td>29.0000</td>\n",
       "    </tr>\n",
       "  </tbody>\n",
       "</table>\n",
       "<p>1309 rows × 3 columns</p>\n",
       "</div>"
      ],
      "text/plain": [
       "      pclass  survived      age\n",
       "0          1         1  29.0000\n",
       "1          1         1   0.9167\n",
       "2          1         0   2.0000\n",
       "3          1         0  30.0000\n",
       "4          1         0  25.0000\n",
       "...      ...       ...      ...\n",
       "1304       3         0  14.5000\n",
       "1305       3         0      NaN\n",
       "1306       3         0  26.5000\n",
       "1307       3         0  27.0000\n",
       "1308       3         0  29.0000\n",
       "\n",
       "[1309 rows x 3 columns]"
      ]
     },
     "execution_count": 107,
     "metadata": {},
     "output_type": "execute_result"
    }
   ],
   "source": [
    "df"
   ]
  },
  {
   "cell_type": "code",
   "execution_count": 109,
   "id": "00a68b71-6f0c-4203-8f0e-c42f0272b643",
   "metadata": {},
   "outputs": [
    {
     "data": {
      "text/plain": [
       "pclass       2.0000\n",
       "survived     1.0000\n",
       "age         79.8333\n",
       "dtype: float64"
      ]
     },
     "execution_count": 109,
     "metadata": {},
     "output_type": "execute_result"
    }
   ],
   "source": [
    "def get_range(s):\n",
    "    return s.max() - s.min()\n",
    "\n",
    "#Apply will apply on every column in the DF ( default axis = 0)\n",
    "df.apply(get_range)"
   ]
  },
  {
   "cell_type": "code",
   "execution_count": 111,
   "id": "6e4bbb6f-b596-419d-96e4-676e78464b99",
   "metadata": {},
   "outputs": [
    {
     "data": {
      "text/plain": [
       "0       28.0000\n",
       "1        0.0833\n",
       "2        2.0000\n",
       "3       30.0000\n",
       "4       25.0000\n",
       "         ...   \n",
       "1304    14.5000\n",
       "1305     3.0000\n",
       "1306    26.5000\n",
       "1307    27.0000\n",
       "1308    29.0000\n",
       "Length: 1309, dtype: float64"
      ]
     },
     "execution_count": 111,
     "metadata": {},
     "output_type": "execute_result"
    }
   ],
   "source": [
    "df.apply(get_range, axis=1)"
   ]
  },
  {
   "cell_type": "code",
   "execution_count": 113,
   "id": "29209f9c-cffb-451c-9e80-b46c06e86a70",
   "metadata": {},
   "outputs": [],
   "source": [
    "def get_fam_size(s):\n",
    "    fam_size = s.sibsp + s.parch\n",
    "    if fam_size <= 0:\n",
    "        return 'single'\n",
    "    elif fam_size < 5:\n",
    "        return 'average'\n",
    "    else:\n",
    "        return 'large'\n",
    "\n",
    "titanic['fam_size'] = titanic.apply(get_fam_size, axis=1)"
   ]
  },
  {
   "cell_type": "code",
   "execution_count": 115,
   "id": "81b04df2-9725-4abb-9978-30a1c40980d0",
   "metadata": {},
   "outputs": [
    {
     "data": {
      "text/plain": [
       "fam_size\n",
       "single     790\n",
       "average    459\n",
       "large       60\n",
       "Name: count, dtype: int64"
      ]
     },
     "execution_count": 115,
     "metadata": {},
     "output_type": "execute_result"
    }
   ],
   "source": [
    "titanic['fam_size'].value_counts()"
   ]
  },
  {
   "cell_type": "code",
   "execution_count": 117,
   "id": "9aa67200-f51d-4fd0-ae52-72f05e4ba996",
   "metadata": {},
   "outputs": [
    {
     "data": {
      "text/plain": [
       "fam_size\n",
       "average    0.549020\n",
       "large      0.150000\n",
       "single     0.302532\n",
       "Name: survived, dtype: float64"
      ]
     },
     "execution_count": 117,
     "metadata": {},
     "output_type": "execute_result"
    }
   ],
   "source": [
    "titanic.groupby('fam_size').survived.mean()"
   ]
  },
  {
   "cell_type": "code",
   "execution_count": 119,
   "id": "b6591cfb-fb00-4d7e-8767-3bf17ff75475",
   "metadata": {},
   "outputs": [
    {
     "data": {
      "text/plain": [
       "0       1st\n",
       "1       1st\n",
       "2       1st\n",
       "3       1st\n",
       "4       1st\n",
       "       ... \n",
       "1304    3rd\n",
       "1305    3rd\n",
       "1306    3rd\n",
       "1307    3rd\n",
       "1308    3rd\n",
       "Name: pclass, Length: 1309, dtype: object"
      ]
     },
     "execution_count": 119,
     "metadata": {},
     "output_type": "execute_result"
    }
   ],
   "source": [
    "#SERIES MAP FUNCTION ( SERIES ONLY)\n",
    "\n",
    "titanic['pclass'].map({1:'1st',2:'2nd',3:'3rd'})"
   ]
  },
  {
   "cell_type": "code",
   "execution_count": 121,
   "id": "bd1c6aaa-2622-463b-b6c5-9470068c8b45",
   "metadata": {},
   "outputs": [
    {
     "data": {
      "text/plain": [
       "0       False\n",
       "1        True\n",
       "2        True\n",
       "3       False\n",
       "4       False\n",
       "        ...  \n",
       "1304     True\n",
       "1305    False\n",
       "1306    False\n",
       "1307    False\n",
       "1308    False\n",
       "Name: age, Length: 1309, dtype: bool"
      ]
     },
     "execution_count": 121,
     "metadata": {},
     "output_type": "execute_result"
    }
   ],
   "source": [
    "titanic['age'].map(lambda x: x < 18)"
   ]
  },
  {
   "cell_type": "code",
   "execution_count": null,
   "id": "b8870968-9a1b-458c-9342-66eb07c70f6f",
   "metadata": {},
   "outputs": [],
   "source": []
  }
 ],
 "metadata": {
  "kernelspec": {
   "display_name": "Python 3 (ipykernel)",
   "language": "python",
   "name": "python3"
  },
  "language_info": {
   "codemirror_mode": {
    "name": "ipython",
    "version": 3
   },
   "file_extension": ".py",
   "mimetype": "text/x-python",
   "name": "python",
   "nbconvert_exporter": "python",
   "pygments_lexer": "ipython3",
   "version": "3.12.4"
  }
 },
 "nbformat": 4,
 "nbformat_minor": 5
}
