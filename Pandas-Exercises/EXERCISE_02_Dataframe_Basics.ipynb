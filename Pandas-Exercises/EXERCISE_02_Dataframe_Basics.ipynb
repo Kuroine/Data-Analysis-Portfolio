{
 "cells": [
  {
   "cell_type": "markdown",
   "id": "577b8d54",
   "metadata": {},
   "source": [
    "# DataFrame Basics Exercise"
   ]
  },
  {
   "cell_type": "markdown",
   "id": "96471a54",
   "metadata": {},
   "source": [
    "## Part 1\n",
    "* Use pandas to read the `bestsellers` dataset into a DataFrame \n",
    "* Once you've done that, use Pandas to figure out how many rows and columns the DF has\n",
    "* Inspect the first 5 rows\n",
    "* Inspect the first 19 rows\n",
    "* Inspect the last 5 rows\n",
    "* Inspect the last 2 rows \n",
    "* Which columns (if any) are missing values?\n",
    "* What datatype did Pandas assign to \"User Rating\"?\n",
    "* How many integer columns are in the DataFrame?"
   ]
  },
  {
   "cell_type": "code",
   "execution_count": 9,
   "id": "74669814",
   "metadata": {},
   "outputs": [],
   "source": [
    "import pandas as pd\n",
    "bestsellers = pd.read_csv('data/bestsellers.csv')"
   ]
  },
  {
   "cell_type": "code",
   "execution_count": 21,
   "id": "bdd2e4cc-a540-454e-a2fb-c2082a0ffecf",
   "metadata": {},
   "outputs": [
    {
     "data": {
      "text/plain": [
       "(550, 7)"
      ]
     },
     "execution_count": 21,
     "metadata": {},
     "output_type": "execute_result"
    }
   ],
   "source": [
    "#dataset size\n",
    "bestsellers.shape"
   ]
  },
  {
   "cell_type": "code",
   "execution_count": 25,
   "id": "5d73017d-08ab-4096-8242-7a45686df9dc",
   "metadata": {},
   "outputs": [
    {
     "data": {
      "text/plain": [
       "Name   Author  User Rating  Reviews  Price  Year   Genre\n",
       "False  False   False        False    False  False  False    550\n",
       "Name: count, dtype: int64"
      ]
     },
     "execution_count": 25,
     "metadata": {},
     "output_type": "execute_result"
    }
   ],
   "source": [
    "#checck for missing values\n",
    "bestsellers.isna().value_counts()"
   ]
  },
  {
   "cell_type": "code",
   "execution_count": 27,
   "id": "eaf65994-9240-4165-8e26-92489d9f5384",
   "metadata": {},
   "outputs": [
    {
     "name": "stdout",
     "output_type": "stream",
     "text": [
      "<class 'pandas.core.frame.DataFrame'>\n",
      "RangeIndex: 550 entries, 0 to 549\n",
      "Data columns (total 7 columns):\n",
      " #   Column       Non-Null Count  Dtype  \n",
      "---  ------       --------------  -----  \n",
      " 0   Name         550 non-null    object \n",
      " 1   Author       550 non-null    object \n",
      " 2   User Rating  550 non-null    float64\n",
      " 3   Reviews      550 non-null    int64  \n",
      " 4   Price        550 non-null    int64  \n",
      " 5   Year         550 non-null    int64  \n",
      " 6   Genre        550 non-null    object \n",
      "dtypes: float64(1), int64(3), object(3)\n",
      "memory usage: 30.2+ KB\n"
     ]
    }
   ],
   "source": [
    "#datatypes\n",
    "bestsellers.info()"
   ]
  },
  {
   "cell_type": "markdown",
   "id": "d7752689",
   "metadata": {},
   "source": [
    "## Part 2\n",
    "\n",
    "* The `mount_everest_deaths` dataset has its own index column provided in the dataset.  When importing it, use the existing index column.\n",
    "* Which columns have zero null values?\n",
    "* Which column has the most null values?\n"
   ]
  },
  {
   "cell_type": "code",
   "execution_count": 29,
   "id": "b6103562",
   "metadata": {},
   "outputs": [],
   "source": [
    "mount_everest = pd.read_csv('data/mount_everest_deaths.csv')"
   ]
  },
  {
   "cell_type": "code",
   "execution_count": 39,
   "id": "c3c69401-0421-4a56-a1e6-03277ef7f9d6",
   "metadata": {},
   "outputs": [
    {
     "name": "stdout",
     "output_type": "stream",
     "text": [
      "<class 'pandas.core.frame.DataFrame'>\n",
      "RangeIndex: 310 entries, 0 to 309\n",
      "Data columns (total 8 columns):\n",
      " #   Column          Non-Null Count  Dtype  \n",
      "---  ------          --------------  -----  \n",
      " 0   No.             310 non-null    int64  \n",
      " 1   Name            310 non-null    object \n",
      " 2   Date            310 non-null    object \n",
      " 3   Age             160 non-null    float64\n",
      " 4   Expedition      271 non-null    object \n",
      " 5   Nationality     309 non-null    object \n",
      " 6   Cause of death  296 non-null    object \n",
      " 7   Location        291 non-null    object \n",
      "dtypes: float64(1), int64(1), object(6)\n",
      "memory usage: 19.5+ KB\n"
     ]
    }
   ],
   "source": [
    "mount_everest.info()"
   ]
  },
  {
   "cell_type": "markdown",
   "id": "21d726d2",
   "metadata": {},
   "source": [
    "## Part 3\n",
    "* Import the `movie_titles.tsv` dataset\n",
    "* You'll notice that it is not comma-separated! You'll need to tell `read_csv` what the separator actually is.\n",
    "* The dataset does not come with its own column headings, so you'll need to provide those as well.  The columns are, in order, `id`, `title`, `year`, `imdb_rating`, `imdb_id`, and `genres`\n",
    "* Once you have successfully read the dataset into a DataFrame, inspect the last 7 rows!"
   ]
  },
  {
   "cell_type": "code",
   "execution_count": 53,
   "id": "e71a07c2",
   "metadata": {},
   "outputs": [],
   "source": [
    "labels = [\"id\", \"title\", \"year\", \"imdb_rating\", \"imdb_id\",\"genres\"]\n",
    "movie_titles = pd.read_csv(\"data/movie_titles.tsv\", sep=\"\\t\", names=labels)"
   ]
  },
  {
   "cell_type": "code",
   "execution_count": 55,
   "id": "64e980d6-a42d-47b1-8dc2-7333ad9d7e9a",
   "metadata": {},
   "outputs": [
    {
     "data": {
      "text/html": [
       "<div>\n",
       "<style scoped>\n",
       "    .dataframe tbody tr th:only-of-type {\n",
       "        vertical-align: middle;\n",
       "    }\n",
       "\n",
       "    .dataframe tbody tr th {\n",
       "        vertical-align: top;\n",
       "    }\n",
       "\n",
       "    .dataframe thead th {\n",
       "        text-align: right;\n",
       "    }\n",
       "</style>\n",
       "<table border=\"1\" class=\"dataframe\">\n",
       "  <thead>\n",
       "    <tr style=\"text-align: right;\">\n",
       "      <th></th>\n",
       "      <th>id</th>\n",
       "      <th>title</th>\n",
       "      <th>year</th>\n",
       "      <th>imdb_rating</th>\n",
       "      <th>imdb_id</th>\n",
       "      <th>genres</th>\n",
       "    </tr>\n",
       "  </thead>\n",
       "  <tbody>\n",
       "    <tr>\n",
       "      <th>610</th>\n",
       "      <td>m610</td>\n",
       "      <td>the wizard of oz</td>\n",
       "      <td>1939</td>\n",
       "      <td>8.3</td>\n",
       "      <td>104873.0</td>\n",
       "      <td>['adventure' 'family' 'fantasy' 'musical']</td>\n",
       "    </tr>\n",
       "    <tr>\n",
       "      <th>611</th>\n",
       "      <td>m611</td>\n",
       "      <td>the world is not enough</td>\n",
       "      <td>1999</td>\n",
       "      <td>6.3</td>\n",
       "      <td>60047.0</td>\n",
       "      <td>['action' 'adventure' 'thriller']</td>\n",
       "    </tr>\n",
       "    <tr>\n",
       "      <th>612</th>\n",
       "      <td>m612</td>\n",
       "      <td>watchmen</td>\n",
       "      <td>2009</td>\n",
       "      <td>7.8</td>\n",
       "      <td>135229.0</td>\n",
       "      <td>['action' 'crime' 'fantasy' 'mystery' 'sci-fi'...</td>\n",
       "    </tr>\n",
       "    <tr>\n",
       "      <th>613</th>\n",
       "      <td>m613</td>\n",
       "      <td>xxx</td>\n",
       "      <td>2002</td>\n",
       "      <td>5.6</td>\n",
       "      <td>53505.0</td>\n",
       "      <td>['action' 'adventure' 'crime']</td>\n",
       "    </tr>\n",
       "    <tr>\n",
       "      <th>614</th>\n",
       "      <td>m614</td>\n",
       "      <td>x-men</td>\n",
       "      <td>2000</td>\n",
       "      <td>7.4</td>\n",
       "      <td>122149.0</td>\n",
       "      <td>['action' 'sci-fi']</td>\n",
       "    </tr>\n",
       "    <tr>\n",
       "      <th>615</th>\n",
       "      <td>m615</td>\n",
       "      <td>young frankenstein</td>\n",
       "      <td>1974</td>\n",
       "      <td>8.0</td>\n",
       "      <td>57618.0</td>\n",
       "      <td>['comedy' 'sci-fi']</td>\n",
       "    </tr>\n",
       "    <tr>\n",
       "      <th>616</th>\n",
       "      <td>m616</td>\n",
       "      <td>zulu dawn</td>\n",
       "      <td>1979</td>\n",
       "      <td>6.4</td>\n",
       "      <td>1911.0</td>\n",
       "      <td>['action' 'adventure' 'drama' 'history' 'war']</td>\n",
       "    </tr>\n",
       "  </tbody>\n",
       "</table>\n",
       "</div>"
      ],
      "text/plain": [
       "       id                    title  year  imdb_rating   imdb_id  \\\n",
       "610  m610         the wizard of oz  1939          8.3  104873.0   \n",
       "611  m611  the world is not enough  1999          6.3   60047.0   \n",
       "612  m612                 watchmen  2009          7.8  135229.0   \n",
       "613  m613                      xxx  2002          5.6   53505.0   \n",
       "614  m614                    x-men  2000          7.4  122149.0   \n",
       "615  m615       young frankenstein  1974          8.0   57618.0   \n",
       "616  m616                zulu dawn  1979          6.4    1911.0   \n",
       "\n",
       "                                                genres  \n",
       "610         ['adventure' 'family' 'fantasy' 'musical']  \n",
       "611                  ['action' 'adventure' 'thriller']  \n",
       "612  ['action' 'crime' 'fantasy' 'mystery' 'sci-fi'...  \n",
       "613                     ['action' 'adventure' 'crime']  \n",
       "614                                ['action' 'sci-fi']  \n",
       "615                                ['comedy' 'sci-fi']  \n",
       "616     ['action' 'adventure' 'drama' 'history' 'war']  "
      ]
     },
     "execution_count": 55,
     "metadata": {},
     "output_type": "execute_result"
    }
   ],
   "source": [
    "movie_titles.tail(7)"
   ]
  }
 ],
 "metadata": {
  "kernelspec": {
   "display_name": "Python 3 (ipykernel)",
   "language": "python",
   "name": "python3"
  },
  "language_info": {
   "codemirror_mode": {
    "name": "ipython",
    "version": 3
   },
   "file_extension": ".py",
   "mimetype": "text/x-python",
   "name": "python",
   "nbconvert_exporter": "python",
   "pygments_lexer": "ipython3",
   "version": "3.12.4"
  }
 },
 "nbformat": 4,
 "nbformat_minor": 5
}
