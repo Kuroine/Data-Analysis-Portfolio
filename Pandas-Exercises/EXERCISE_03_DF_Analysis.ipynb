{
 "cells": [
  {
   "cell_type": "markdown",
   "id": "04b3f624",
   "metadata": {},
   "source": [
    "# DataFrame Analysis Exercise\n",
    "\n",
    "**Import the `bestsellers.csv` dataset and use it to answer the following questions:**\n",
    "\n",
    "* Find the lowest User Rating in the DF\n",
    "* Find the highest Price in the DF\n",
    "* What is the average User Rating?\n",
    "* What the average User Rating of the first 5 rows?\n",
    "* What User Review score appeared the most?\n",
    "* What is the total (sum) of all the values in the Reviews column?\n",
    "* How many different authors are featured in the dataset?\n",
    "* Which author wrote the most number of books on the list?  How many did they write?"
   ]
  },
  {
   "cell_type": "code",
   "execution_count": 1,
   "id": "f9f647e7-7953-49e5-85a8-167576230f96",
   "metadata": {},
   "outputs": [],
   "source": [
    "import pandas as pd\n",
    "\n",
    "bestsellers = pd.read_csv('data/bestsellers.csv')"
   ]
  },
  {
   "cell_type": "code",
   "execution_count": 7,
   "id": "dd581e11-1a05-461d-ad54-bbcc9848fac0",
   "metadata": {},
   "outputs": [
    {
     "data": {
      "text/plain": [
       "3.3"
      ]
     },
     "execution_count": 7,
     "metadata": {},
     "output_type": "execute_result"
    }
   ],
   "source": [
    "#lowest User Rating\n",
    "bestsellers['User Rating'].min()"
   ]
  },
  {
   "cell_type": "code",
   "execution_count": 11,
   "id": "2098b2ad-7e45-47f0-af7d-3e3160d08974",
   "metadata": {},
   "outputs": [
    {
     "data": {
      "text/plain": [
       "105"
      ]
     },
     "execution_count": 11,
     "metadata": {},
     "output_type": "execute_result"
    }
   ],
   "source": [
    "#Highest Price\n",
    "bestsellers['Price'].max()"
   ]
  },
  {
   "cell_type": "code",
   "execution_count": 13,
   "id": "602e8135-3085-45f7-92d1-cfad6b94677f",
   "metadata": {},
   "outputs": [
    {
     "data": {
      "text/plain": [
       "4.618363636363637"
      ]
     },
     "execution_count": 13,
     "metadata": {},
     "output_type": "execute_result"
    }
   ],
   "source": [
    "#Avg user Rating\n",
    "bestsellers['User Rating'].mean()"
   ]
  },
  {
   "cell_type": "code",
   "execution_count": 15,
   "id": "685be622-4f27-4585-9865-b41f7994e470",
   "metadata": {},
   "outputs": [
    {
     "data": {
      "text/plain": [
       "4.7"
      ]
     },
     "execution_count": 15,
     "metadata": {},
     "output_type": "execute_result"
    }
   ],
   "source": [
    "#Avg User Rating first 5 rows\n",
    "bestsellers.head(5)['User Rating'].mean()"
   ]
  },
  {
   "cell_type": "code",
   "execution_count": 21,
   "id": "3aae8910-c736-440f-8a65-3c49ea1e9373",
   "metadata": {},
   "outputs": [
    {
     "data": {
      "text/plain": [
       "User Rating\n",
       "4.8    127\n",
       "4.7    108\n",
       "4.6    105\n",
       "4.5     60\n",
       "4.9     52\n",
       "4.4     38\n",
       "4.3     25\n",
       "4.0     14\n",
       "4.2      8\n",
       "4.1      6\n",
       "3.9      3\n",
       "3.8      2\n",
       "3.6      1\n",
       "3.3      1\n",
       "Name: count, dtype: int64"
      ]
     },
     "execution_count": 21,
     "metadata": {},
     "output_type": "execute_result"
    }
   ],
   "source": [
    "#Most Common User Review Score\n",
    "bestsellers['User Rating'].value_counts()"
   ]
  },
  {
   "cell_type": "code",
   "execution_count": 25,
   "id": "2c3bae73-3c3b-4c7c-9c2c-2f20bc204a60",
   "metadata": {},
   "outputs": [
    {
     "data": {
      "text/plain": [
       "6574305"
      ]
     },
     "execution_count": 25,
     "metadata": {},
     "output_type": "execute_result"
    }
   ],
   "source": [
    "#Total sum of Reviews\n",
    "bestsellers['Reviews'].sum()"
   ]
  },
  {
   "cell_type": "code",
   "execution_count": 31,
   "id": "5e58f60f-1322-498f-bb96-dac9cc15bc33",
   "metadata": {},
   "outputs": [
    {
     "data": {
      "text/plain": [
       "Author\n",
       "Jeff Kinney                           12\n",
       "Gary Chapman                          11\n",
       "Rick Riordan                          11\n",
       "Suzanne Collins                       11\n",
       "American Psychological Association    10\n",
       "                                      ..\n",
       "Keith Richards                         1\n",
       "Chris Cleave                           1\n",
       "Alice Schertle                         1\n",
       "Celeste Ng                             1\n",
       "Adam Gasiewski                         1\n",
       "Name: count, Length: 248, dtype: int64"
      ]
     },
     "execution_count": 31,
     "metadata": {},
     "output_type": "execute_result"
    }
   ],
   "source": [
    "#Numbers of different authors\n",
    "#Which Author wrote the most book\n",
    "bestsellers['Author'].value_counts()"
   ]
  }
 ],
 "metadata": {
  "kernelspec": {
   "display_name": "Python 3 (ipykernel)",
   "language": "python",
   "name": "python3"
  },
  "language_info": {
   "codemirror_mode": {
    "name": "ipython",
    "version": 3
   },
   "file_extension": ".py",
   "mimetype": "text/x-python",
   "name": "python",
   "nbconvert_exporter": "python",
   "pygments_lexer": "ipython3",
   "version": "3.12.4"
  }
 },
 "nbformat": 4,
 "nbformat_minor": 5
}
